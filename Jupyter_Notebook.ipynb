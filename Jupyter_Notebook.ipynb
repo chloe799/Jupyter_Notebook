{
 "cells": [
  {
   "cell_type": "markdown",
   "metadata": {},
   "source": [
    "<center>\n",
    "    <img src=\"https://cf-courses-data.s3.us.cloud-object-storage.appdomain.cloud/IBMDeveloperSkillsNetwork-DS0105EN-SkillsNetwork/labs/Module2/images/SN_web_lightmode.png\" width=\"300\" alt=\"cognitiveclass.ai logo\">\n",
    "</center>\n"
   ]
  },
  {
   "cell_type": "markdown",
   "metadata": {},
   "source": [
    "#### Add your code below following the instructions given in the course\n"
   ]
  },
  {
   "cell_type": "markdown",
   "metadata": {},
   "source": [
    "# My Data Science Notebook   <!-- Exercise 2: 제목 -->\n",
    "\n",
    "## Introduction   <!-- Exercise 3: 소개 -->\n",
    "This notebook introduces basic concepts and tools in Data Science.\n",
    "\n",
    "### Data Science Languages   <!-- Exercise 4: 데이터 과학 언어 리스트 -->\n",
    "- Python\n",
    "- R\n",
    "- SQL\n",
    "- Julia\n",
    "\n",
    "### Data Science Libraries   <!-- Exercise 5: 라이브러리 리스트 -->\n",
    "- NumPy\n",
    "- Pandas\n",
    "- Matplotlib\n",
    "- Scikit-learn\n",
    "\n",
    "### Data Science Tools Table   <!-- Exercise 6: 테이블 -->\n",
    "| Tool          | Description                     |\n",
    "|---------------|---------------------------------|\n",
    "| JupyterLite   | Browser-based interactive notebook |\n",
    "| GitHub        | Version control and repository hosting |\n",
    "| VS Code       | Code editor                    |\n",
    "\n",
    "### Arithmetic Expressions Examples   <!-- Exercise 7: 산술식 소개 -->\n",
    "Below are some simple arithmetic operations.\n"
   ]
  },
  {
   "cell_type": "code",
   "execution_count": null,
   "metadata": {},
   "outputs": [],
   "source": [
    "# Exercise 8: Multiply and add numbers\n",
    "result = 5 * 6 + 2\n",
    "print(\"Result of 5*6+2 is:\", result)\n"
   ]
  },
  {
   "cell_type": "code",
   "execution_count": null,
   "metadata": {},
   "outputs": [],
   "source": [
    "# Exercise 9: Convert minutes to hours\n",
    "minutes = 120\n",
    "hours = minutes / 60\n",
    "print(minutes, \"minutes is\", hours, \"hours\")\n"
   ]
  },
  {
   "cell_type": "markdown",
   "metadata": {},
   "source": [
    "## Objectives   <!-- Exercise 10: 목표 리스트 -->\n",
    "- Learn basic data science tools\n",
    "- Practice markdown and code in JupyterLite\n",
    "- Share notebook on GitHub\n",
    "\n",
    "### Author: Shinsil Lee  <!-- Exercise 11: 작성자 -->\n",
    "Shinsil Lee\n"
   ]
  }
 ],
 "metadata": {
  "kernelspec": {
   "display_name": "Python 3 (ipykernel)",
   "language": "python",
   "name": "python3"
  },
  "language_info": {
   "codemirror_mode": {
    "name": "ipython",
    "version": 3
   },
   "file_extension": ".py",
   "mimetype": "text/x-python",
   "name": "python",
   "nbconvert_exporter": "python",
   "pygments_lexer": "ipython3",
   "version": "3.12.8"
  }
 },
 "nbformat": 4,
 "nbformat_minor": 4
}
